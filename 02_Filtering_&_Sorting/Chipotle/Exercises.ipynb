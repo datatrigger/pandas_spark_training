{
 "cells": [
  {
   "attachments": {},
   "cell_type": "markdown",
   "metadata": {},
   "source": [
    "# Ex1 - Filtering and Sorting Data"
   ]
  },
  {
   "attachments": {},
   "cell_type": "markdown",
   "metadata": {},
   "source": [
    "This time we are going to pull data directly from the internet.\n",
    "Special thanks to: https://github.com/justmarkham for sharing the dataset and materials.\n",
    "\n",
    "### Step 1. Import the necessary libraries"
   ]
  },
  {
   "cell_type": "code",
   "execution_count": 1,
   "metadata": {
    "collapsed": false
   },
   "outputs": [
    {
     "name": "stdout",
     "output_type": "stream",
     "text": [
      "23/05/28 15:42:17 WARN Utils: Your hostname, taliandorogd resolves to a loopback address: 127.0.1.1; using 192.168.0.32 instead (on interface wlp5s0)\n",
      "23/05/28 15:42:17 WARN Utils: Set SPARK_LOCAL_IP if you need to bind to another address\n"
     ]
    },
    {
     "name": "stderr",
     "output_type": "stream",
     "text": [
      "Setting default log level to \"WARN\".\n",
      "To adjust logging level use sc.setLogLevel(newLevel). For SparkR, use setLogLevel(newLevel).\n"
     ]
    },
    {
     "name": "stdout",
     "output_type": "stream",
     "text": [
      "23/05/28 15:42:17 WARN NativeCodeLoader: Unable to load native-hadoop library for your platform... using builtin-java classes where applicable\n"
     ]
    }
   ],
   "source": [
    "from pyspark.sql import SparkSession\n",
    "from pyspark import SparkFiles\n",
    "spark = SparkSession.builder.getOrCreate()"
   ]
  },
  {
   "attachments": {},
   "cell_type": "markdown",
   "metadata": {},
   "source": [
    "### Step 2. Import the dataset from this [address](https://raw.githubusercontent.com/justmarkham/DAT8/master/data/chipotle.tsv). "
   ]
  },
  {
   "cell_type": "code",
   "execution_count": 2,
   "metadata": {},
   "outputs": [],
   "source": [
    "spark.sparkContext.addFile(\"https://raw.githubusercontent.com/justmarkham/DAT8/master/data/chipotle.tsv\")"
   ]
  },
  {
   "attachments": {},
   "cell_type": "markdown",
   "metadata": {},
   "source": [
    "### Step 3. Assign it to a variable called chipo."
   ]
  },
  {
   "cell_type": "code",
   "execution_count": 3,
   "metadata": {
    "collapsed": false
   },
   "outputs": [],
   "source": [
    "chipo = spark.read.csv(SparkFiles.get(\"chipotle.tsv\"), sep = \"\\t\", header = True)"
   ]
  },
  {
   "attachments": {},
   "cell_type": "markdown",
   "metadata": {},
   "source": [
    "### Step 4. How many products cost more than $10.00?"
   ]
  },
  {
   "cell_type": "code",
   "execution_count": 4,
   "metadata": {
    "collapsed": false
   },
   "outputs": [],
   "source": [
    "from pyspark.sql.functions import col, udf, lit\n",
    "from pyspark.sql.types import FloatType\n",
    "chipo = chipo.withColumn(\"item_price\", udf(lambda s: s.replace(\"$\", \"\"))(col(\"item_price\")).cast(FloatType()))"
   ]
  },
  {
   "cell_type": "code",
   "execution_count": 9,
   "metadata": {},
   "outputs": [
    {
     "name": "stdout",
     "output_type": "stream",
     "text": [
      "+--------+--------+--------------------+--------------------+----------+\n",
      "|order_id|quantity|           item_name|  choice_description|item_price|\n",
      "+--------+--------+--------------------+--------------------+----------+\n",
      "|       1|       1|Chips and Fresh T...|                NULL|      2.39|\n",
      "|       1|       1|                Izze|        [Clementine]|      3.39|\n",
      "|       1|       1|    Nantucket Nectar|             [Apple]|      3.39|\n",
      "|       1|       1|Chips and Tomatil...|                NULL|      2.39|\n",
      "|       2|       2|        Chicken Bowl|[Tomatillo-Red Ch...|     16.98|\n",
      "|       3|       1|        Chicken Bowl|[Fresh Tomato Sal...|     10.98|\n",
      "|       3|       1|       Side of Chips|                NULL|      1.69|\n",
      "|       4|       1|       Steak Burrito|[Tomatillo Red Ch...|     11.75|\n",
      "|       4|       1|    Steak Soft Tacos|[Tomatillo Green ...|      9.25|\n",
      "|       5|       1|       Steak Burrito|[Fresh Tomato Sal...|      9.25|\n",
      "|       5|       1| Chips and Guacamole|                NULL|      4.45|\n",
      "|       6|       1|Chicken Crispy Tacos|[Roasted Chili Co...|      8.75|\n",
      "|       6|       1|  Chicken Soft Tacos|[Roasted Chili Co...|      8.75|\n",
      "|       7|       1|        Chicken Bowl|[Fresh Tomato Sal...|     11.25|\n",
      "|       7|       1| Chips and Guacamole|                NULL|      4.45|\n",
      "|       8|       1|Chips and Tomatil...|                NULL|      2.39|\n",
      "|       8|       1|     Chicken Burrito|[Tomatillo-Green ...|      8.49|\n",
      "|       9|       1|     Chicken Burrito|[Fresh Tomato Sal...|      8.49|\n",
      "|       9|       2|         Canned Soda|            [Sprite]|      2.18|\n",
      "|      10|       1|        Chicken Bowl|[Tomatillo Red Ch...|      8.75|\n",
      "+--------+--------+--------------------+--------------------+----------+\n",
      "only showing top 20 rows\n",
      "\n"
     ]
    }
   ],
   "source": [
    "chipo.show()"
   ]
  },
  {
   "cell_type": "code",
   "execution_count": 23,
   "metadata": {},
   "outputs": [
    {
     "data": {
      "text/plain": [
       "31"
      ]
     },
     "execution_count": 23,
     "metadata": {},
     "output_type": "execute_result"
    }
   ],
   "source": [
    "chipo.filter(chipo.item_price > 10).select(\"item_name\").distinct().sort(\"item_name\").count()\n",
    "# Solution does not make sense: filters on quantity == 1.\n",
    "# But at step 6 one can see the same item with quantity 1 cabn have different prices, depending on choice_description."
   ]
  },
  {
   "attachments": {},
   "cell_type": "markdown",
   "metadata": {},
   "source": [
    "### Step 5. What is the price of each item? \n",
    "###### print a data frame with only two columns item_name and item_price"
   ]
  },
  {
   "cell_type": "code",
   "execution_count": 22,
   "metadata": {
    "collapsed": false
   },
   "outputs": [
    {
     "name": "stdout",
     "output_type": "stream",
     "text": [
      "+--------+--------+--------------------+--------------------+----------+\n",
      "|order_id|quantity|           item_name|  choice_description|item_price|\n",
      "+--------+--------+--------------------+--------------------+----------+\n",
      "|       2|       2|        Chicken Bowl|[Tomatillo-Red Ch...|     16.98|\n",
      "|       3|       1|        Chicken Bowl|[Fresh Tomato Sal...|     10.98|\n",
      "|       4|       1|       Steak Burrito|[Tomatillo Red Ch...|     11.75|\n",
      "|       7|       1|        Chicken Bowl|[Fresh Tomato Sal...|     11.25|\n",
      "|      12|       1|     Chicken Burrito|[[Tomatillo-Green...|     10.98|\n",
      "|      19|       1|       Barbacoa Bowl|[Roasted Chili Co...|     11.75|\n",
      "|      20|       1|        Chicken Bowl|[Roasted Chili Co...|     11.25|\n",
      "|      20|       1|       Steak Burrito|[Fresh Tomato Sal...|     11.75|\n",
      "|      21|       1|     Chicken Burrito|[Tomatillo-Red Ch...|     10.98|\n",
      "|      24|       1|     Chicken Burrito|[Roasted Chili Co...|     10.98|\n",
      "|      26|       1|      Veggie Burrito|[Tomatillo Red Ch...|     11.25|\n",
      "|      27|       1|       Barbacoa Bowl|[Roasted Chili Co...|     11.75|\n",
      "|      28|       1|         Veggie Bowl|[Fresh Tomato Sal...|     11.25|\n",
      "|      30|       1|     Chicken Burrito|[Tomatillo-Red Ch...|     10.98|\n",
      "|      35|       1|  Chicken Soft Tacos|[Roasted Chili Co...|     11.25|\n",
      "|      40|       1|          Steak Bowl|[Fresh Tomato Sal...|     11.75|\n",
      "|      40|       1|          Steak Bowl|[Fresh Tomato Sal...|     11.75|\n",
      "|      41|       1|    Carnitas Burrito|[Roasted Chili Co...|     11.75|\n",
      "|      43|       1|       Carnitas Bowl|[Fresh Tomato Sal...|     11.75|\n",
      "|      54|       1|        Chicken Bowl|[Fresh Tomato Sal...|     11.25|\n",
      "|      57|       1|    Barbacoa Burrito|[Roasted Chili Co...|     11.75|\n",
      "|      59|       1|     Chicken Burrito|[Roasted Chili Co...|     10.98|\n",
      "|      60|       2|  Chicken Salad Bowl|[Tomatillo Green ...|      22.5|\n",
      "|      61|       1|       Barbacoa Bowl|[Tomatillo Red Ch...|     11.75|\n",
      "|      62|       1|        Chicken Bowl|[Fresh Tomato Sal...|     11.25|\n",
      "|      63|       1|        Chicken Bowl|[Tomatillo Green ...|     11.25|\n",
      "|      64|       1|        Chicken Bowl|[Fresh Tomato Sal...|     11.25|\n",
      "|      64|       1|         Veggie Bowl|[Tomatillo Red Ch...|     11.25|\n",
      "|      65|       1|    Barbacoa Burrito|[Tomatillo Red Ch...|     11.75|\n",
      "|      66|       1|       Steak Burrito|[Tomatillo-Green ...|     11.48|\n",
      "|      67|       2|       Steak Burrito|[Tomatillo-Red Ch...|     17.98|\n",
      "|      68|       2|     Chicken Burrito|[Tomatillo Red Ch...|      17.5|\n",
      "|      70|       2|        Chicken Bowl|[Fresh Tomato Sal...|      17.5|\n",
      "|      71|       1|         Veggie Bowl|[Tomatillo Red Ch...|     11.25|\n",
      "|      71|       1|       Steak Burrito|[Tomatillo Green ...|     11.75|\n",
      "|      72|       1|     Chicken Burrito|[[Roasted Chili C...|     10.98|\n",
      "|      73|       1|     Chicken Burrito|[[Roasted Chili C...|     10.98|\n",
      "|      74|       1|       Carnitas Bowl|[Roasted Chili Co...|     11.48|\n",
      "|      75|       1|     Chicken Burrito|[Tomatillo Red Ch...|     11.25|\n",
      "|      75|       1|Barbacoa Crispy T...|[Tomatillo Red Ch...|     11.75|\n",
      "|      79|       1|        Chicken Bowl|[Roasted Chili Co...|     10.98|\n",
      "|      80|       1|       Steak Burrito|[Fresh Tomato Sal...|     11.48|\n",
      "|      83|       1|   Veggie Salad Bowl|[Fresh Tomato Sal...|     11.25|\n",
      "|      84|       1|          Steak Bowl|[Fresh Tomato Sal...|     11.48|\n",
      "|      86|       1|         Veggie Bowl|[Roasted Chili Co...|     11.25|\n",
      "|      89|       1|        Chicken Bowl|[[Roasted Chili C...|     10.98|\n",
      "|      90|       1|     Chicken Burrito|[Tomatillo Red Ch...|     11.25|\n",
      "|      93|       1|        Chicken Bowl|[Roasted Chili Co...|     11.25|\n",
      "|      93|       1|         Veggie Bowl|[Roasted Chili Co...|     11.25|\n",
      "|      93|       1|        Chicken Bowl|[Roasted Chili Co...|     11.25|\n",
      "+--------+--------+--------------------+--------------------+----------+\n",
      "only showing top 50 rows\n",
      "\n"
     ]
    }
   ],
   "source": [
    "chipo.filter(chipo.item_price > 10).show(50)"
   ]
  },
  {
   "attachments": {},
   "cell_type": "markdown",
   "metadata": {},
   "source": [
    "### Step 6. Sort by the name of the item"
   ]
  },
  {
   "cell_type": "code",
   "execution_count": null,
   "metadata": {
    "collapsed": false
   },
   "outputs": [],
   "source": []
  },
  {
   "attachments": {},
   "cell_type": "markdown",
   "metadata": {},
   "source": [
    "### Step 7. What was the quantity of the most expensive item ordered?"
   ]
  },
  {
   "cell_type": "code",
   "execution_count": null,
   "metadata": {
    "collapsed": false
   },
   "outputs": [],
   "source": []
  },
  {
   "attachments": {},
   "cell_type": "markdown",
   "metadata": {},
   "source": [
    "### Step 8. How many times was a Veggie Salad Bowl ordered?"
   ]
  },
  {
   "cell_type": "code",
   "execution_count": null,
   "metadata": {
    "collapsed": false
   },
   "outputs": [],
   "source": []
  },
  {
   "attachments": {},
   "cell_type": "markdown",
   "metadata": {},
   "source": [
    "### Step 9. How many times did someone order more than one Canned Soda?"
   ]
  },
  {
   "cell_type": "code",
   "execution_count": null,
   "metadata": {
    "collapsed": false
   },
   "outputs": [],
   "source": []
  }
 ],
 "metadata": {
  "kernelspec": {
   "display_name": "Python 3",
   "language": "python",
   "name": "python3"
  },
  "language_info": {
   "codemirror_mode": {
    "name": "ipython",
    "version": 3
   },
   "file_extension": ".py",
   "mimetype": "text/x-python",
   "name": "python",
   "nbconvert_exporter": "python",
   "pygments_lexer": "ipython3",
   "version": "3.10.6"
  }
 },
 "nbformat": 4,
 "nbformat_minor": 0
}
