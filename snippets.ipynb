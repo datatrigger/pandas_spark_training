{
 "cells": [
  {
   "cell_type": "code",
   "execution_count": null,
   "metadata": {},
   "outputs": [],
   "source": [
    "# Get max value of a given column, then filter rows that match the max value\n",
    "\n",
    "max_quantity = df.agg({\"a_column\": \"max\"}).collect()[0][0]\n",
    "df.filter(df.a_column == max_quantity).collect()"
   ]
  }
 ],
 "metadata": {
  "language_info": {
   "name": "python"
  },
  "orig_nbformat": 4
 },
 "nbformat": 4,
 "nbformat_minor": 2
}
