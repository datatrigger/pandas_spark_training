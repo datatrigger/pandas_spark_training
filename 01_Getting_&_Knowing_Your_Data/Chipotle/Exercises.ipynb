{
 "cells": [
  {
   "attachments": {},
   "cell_type": "markdown",
   "metadata": {},
   "source": [
    "# Ex2 - Getting and Knowing your Data"
   ]
  },
  {
   "attachments": {},
   "cell_type": "markdown",
   "metadata": {},
   "source": [
    "This time we are going to pull data directly from the internet.\n",
    "Special thanks to: https://github.com/justmarkham for sharing the dataset and materials.\n",
    "\n",
    "### Step 1. Import the necessary libraries"
   ]
  },
  {
   "cell_type": "code",
   "execution_count": 1,
   "metadata": {
    "collapsed": false
   },
   "outputs": [
    {
     "name": "stdout",
     "output_type": "stream",
     "text": [
      "23/05/26 21:46:14 WARN Utils: Your hostname, taliandorogd resolves to a loopback address: 127.0.1.1; using 192.168.0.32 instead (on interface wlp5s0)\n",
      "23/05/26 21:46:14 WARN Utils: Set SPARK_LOCAL_IP if you need to bind to another address\n"
     ]
    },
    {
     "name": "stderr",
     "output_type": "stream",
     "text": [
      "Setting default log level to \"WARN\".\n",
      "To adjust logging level use sc.setLogLevel(newLevel). For SparkR, use setLogLevel(newLevel).\n"
     ]
    },
    {
     "name": "stdout",
     "output_type": "stream",
     "text": [
      "23/05/26 21:46:14 WARN NativeCodeLoader: Unable to load native-hadoop library for your platform... using builtin-java classes where applicable\n"
     ]
    }
   ],
   "source": [
    "import pandas as pd\n",
    "from pyspark.sql import SparkSession\n",
    "from pyspark import SparkFiles\n",
    "spark = SparkSession.builder.getOrCreate()"
   ]
  },
  {
   "attachments": {},
   "cell_type": "markdown",
   "metadata": {},
   "source": [
    "### Step 2. Import the dataset from this [address](https://raw.githubusercontent.com/justmarkham/DAT8/master/data/chipotle.tsv). "
   ]
  },
  {
   "cell_type": "code",
   "execution_count": 2,
   "metadata": {},
   "outputs": [],
   "source": [
    "spark.sparkContext.addFile(\"https://raw.githubusercontent.com/justmarkham/DAT8/master/data/chipotle.tsv\")"
   ]
  },
  {
   "attachments": {},
   "cell_type": "markdown",
   "metadata": {},
   "source": [
    "### Step 3. Assign it to a variable called chipo."
   ]
  },
  {
   "cell_type": "code",
   "execution_count": 3,
   "metadata": {
    "collapsed": false
   },
   "outputs": [
    {
     "name": "stderr",
     "output_type": "stream",
     "text": [
      "                                                                                \r"
     ]
    }
   ],
   "source": [
    "chipo = spark.read.csv(SparkFiles.get(\"chipotle.tsv\"), sep = '\\t', header = True)"
   ]
  },
  {
   "attachments": {},
   "cell_type": "markdown",
   "metadata": {},
   "source": [
    "### Step 4. See the first 10 entries"
   ]
  },
  {
   "cell_type": "code",
   "execution_count": 4,
   "metadata": {
    "collapsed": false,
    "scrolled": false
   },
   "outputs": [
    {
     "name": "stdout",
     "output_type": "stream",
     "text": [
      "+--------+--------+--------------------+--------------------+----------+\n",
      "|order_id|quantity|           item_name|  choice_description|item_price|\n",
      "+--------+--------+--------------------+--------------------+----------+\n",
      "|       1|       1|Chips and Fresh T...|                NULL|    $2.39 |\n",
      "|       1|       1|                Izze|        [Clementine]|    $3.39 |\n",
      "|       1|       1|    Nantucket Nectar|             [Apple]|    $3.39 |\n",
      "|       1|       1|Chips and Tomatil...|                NULL|    $2.39 |\n",
      "|       2|       2|        Chicken Bowl|[Tomatillo-Red Ch...|   $16.98 |\n",
      "|       3|       1|        Chicken Bowl|[Fresh Tomato Sal...|   $10.98 |\n",
      "|       3|       1|       Side of Chips|                NULL|    $1.69 |\n",
      "|       4|       1|       Steak Burrito|[Tomatillo Red Ch...|   $11.75 |\n",
      "|       4|       1|    Steak Soft Tacos|[Tomatillo Green ...|    $9.25 |\n",
      "|       5|       1|       Steak Burrito|[Fresh Tomato Sal...|    $9.25 |\n",
      "+--------+--------+--------------------+--------------------+----------+\n",
      "only showing top 10 rows\n",
      "\n"
     ]
    }
   ],
   "source": [
    "chipo.show(10)"
   ]
  },
  {
   "attachments": {},
   "cell_type": "markdown",
   "metadata": {},
   "source": [
    "### Step 5. What is the number of observations in the dataset?"
   ]
  },
  {
   "cell_type": "code",
   "execution_count": 5,
   "metadata": {
    "collapsed": false
   },
   "outputs": [
    {
     "data": {
      "text/plain": [
       "4622"
      ]
     },
     "execution_count": 5,
     "metadata": {},
     "output_type": "execute_result"
    }
   ],
   "source": [
    "# Solution 1\n",
    "chipo.count()\n"
   ]
  },
  {
   "cell_type": "code",
   "execution_count": 6,
   "metadata": {
    "collapsed": false
   },
   "outputs": [
    {
     "name": "stderr",
     "output_type": "stream",
     "text": [
      "[Stage 5:>                                                          (0 + 1) / 1]\r"
     ]
    },
    {
     "name": "stdout",
     "output_type": "stream",
     "text": [
      "+-------+-----------------+------------------+-----------------+--------------------+----------+\n",
      "|summary|         order_id|          quantity|        item_name|  choice_description|item_price|\n",
      "+-------+-----------------+------------------+-----------------+--------------------+----------+\n",
      "|  count|             4622|              4622|             4622|                4622|      4622|\n",
      "|   mean|927.2548680225011|1.0757247944612722|             null|                null|      null|\n",
      "| stddev|528.8907955866096|0.4101863342575333|             null|                null|      null|\n",
      "|    min|                1|                 1|6 Pack Soft Drink|                NULL|    $1.09 |\n",
      "|    max|              999|                 8|Veggie Soft Tacos|[[Tomatillo-Red C...|    $9.39 |\n",
      "+-------+-----------------+------------------+-----------------+--------------------+----------+\n",
      "\n"
     ]
    },
    {
     "name": "stderr",
     "output_type": "stream",
     "text": [
      "                                                                                \r"
     ]
    }
   ],
   "source": [
    "# Solution 2\n",
    "chipo.describe().show()\n"
   ]
  },
  {
   "attachments": {},
   "cell_type": "markdown",
   "metadata": {},
   "source": [
    "### Step 6. What is the number of columns in the dataset?"
   ]
  },
  {
   "cell_type": "code",
   "execution_count": 7,
   "metadata": {
    "collapsed": false
   },
   "outputs": [
    {
     "data": {
      "text/plain": [
       "5"
      ]
     },
     "execution_count": 7,
     "metadata": {},
     "output_type": "execute_result"
    }
   ],
   "source": [
    "len(chipo.columns)"
   ]
  },
  {
   "attachments": {},
   "cell_type": "markdown",
   "metadata": {},
   "source": [
    "### Step 7. Print the name of all the columns."
   ]
  },
  {
   "cell_type": "code",
   "execution_count": 8,
   "metadata": {
    "collapsed": false
   },
   "outputs": [
    {
     "name": "stdout",
     "output_type": "stream",
     "text": [
      "Columns 1: order_id\n",
      "Columns 2: quantity\n",
      "Columns 3: item_name\n",
      "Columns 4: choice_description\n",
      "Columns 5: item_price\n"
     ]
    }
   ],
   "source": [
    "for i, col in enumerate(chipo.columns):\n",
    "    print(f\"Columns {i + 1}: {col}\")"
   ]
  },
  {
   "attachments": {},
   "cell_type": "markdown",
   "metadata": {},
   "source": [
    "### Step 8. How is the dataset indexed?"
   ]
  },
  {
   "cell_type": "code",
   "execution_count": 9,
   "metadata": {
    "collapsed": false
   },
   "outputs": [],
   "source": [
    "# Not applicable"
   ]
  },
  {
   "attachments": {},
   "cell_type": "markdown",
   "metadata": {},
   "source": [
    "### Step 9. Which was the most-ordered item? "
   ]
  },
  {
   "cell_type": "code",
   "execution_count": 10,
   "metadata": {},
   "outputs": [
    {
     "name": "stdout",
     "output_type": "stream",
     "text": [
      "+------------+\n",
      "|   item_name|\n",
      "+------------+\n",
      "|Chicken Bowl|\n",
      "+------------+\n",
      "only showing top 1 row\n",
      "\n"
     ]
    }
   ],
   "source": [
    "from pyspark.sql.types import IntegerType\n",
    "chipo = chipo\\\n",
    "    .withColumn(\"quantity\", chipo[\"quantity\"].cast(IntegerType()))\n",
    "\n",
    "chipo\\\n",
    "    .groupby(\"item_name\")\\\n",
    "    .sum(\"quantity\")\\\n",
    "    .withColumnRenamed(\"sum(quantity)\", \"quantity\")\\\n",
    "    .orderBy(\"quantity\", ascending = False)\\\n",
    "    .select(\"item_name\")\\\n",
    "    .show(1)"
   ]
  },
  {
   "attachments": {},
   "cell_type": "markdown",
   "metadata": {},
   "source": [
    "### Step 10. For the most-ordered item, how many items were ordered?"
   ]
  },
  {
   "cell_type": "code",
   "execution_count": 11,
   "metadata": {
    "collapsed": false
   },
   "outputs": [
    {
     "name": "stdout",
     "output_type": "stream",
     "text": [
      "+--------+\n",
      "|quantity|\n",
      "+--------+\n",
      "|     761|\n",
      "+--------+\n",
      "only showing top 1 row\n",
      "\n"
     ]
    }
   ],
   "source": [
    "chipo\\\n",
    "    .groupby(\"item_name\")\\\n",
    "    .sum(\"quantity\")\\\n",
    "    .withColumnRenamed(\"sum(quantity)\", \"quantity\")\\\n",
    "    .orderBy(\"quantity\", ascending = False)\\\n",
    "    .select(\"quantity\")\\\n",
    "    .show(1)"
   ]
  },
  {
   "attachments": {},
   "cell_type": "markdown",
   "metadata": {},
   "source": [
    "### Step 11. What was the most ordered item in the choice_description column?"
   ]
  },
  {
   "cell_type": "code",
   "execution_count": 12,
   "metadata": {
    "collapsed": false
   },
   "outputs": [
    {
     "name": "stdout",
     "output_type": "stream",
     "text": [
      "+------------------+--------+\n",
      "|choice_description|quantity|\n",
      "+------------------+--------+\n",
      "|       [Diet Coke]|     159|\n",
      "+------------------+--------+\n",
      "only showing top 1 row\n",
      "\n"
     ]
    }
   ],
   "source": [
    "chipo\\\n",
    "    .groupby(\"choice_description\")\\\n",
    "    .sum(\"quantity\")\\\n",
    "    .withColumnRenamed(\"sum(quantity)\", \"quantity\")\\\n",
    "    .orderBy(\"quantity\", ascending = False)\\\n",
    "    .filter(chipo.choice_description != \"NULL\")\\\n",
    "    .show(1)\n",
    "    # .select(\"choice_description\")\\"
   ]
  },
  {
   "attachments": {},
   "cell_type": "markdown",
   "metadata": {},
   "source": [
    "### Step 12. How many items were ordered in total?"
   ]
  },
  {
   "cell_type": "code",
   "execution_count": 13,
   "metadata": {
    "collapsed": false
   },
   "outputs": [
    {
     "name": "stdout",
     "output_type": "stream",
     "text": [
      "+-------------+\n",
      "|sum(quantity)|\n",
      "+-------------+\n",
      "|         4972|\n",
      "+-------------+\n",
      "\n"
     ]
    }
   ],
   "source": [
    "chipo\\\n",
    "    .groupby()\\\n",
    "    .sum(\"quantity\")\\\n",
    "    .show()"
   ]
  },
  {
   "attachments": {},
   "cell_type": "markdown",
   "metadata": {},
   "source": [
    "### Step 13. Turn the item price into a float"
   ]
  },
  {
   "attachments": {},
   "cell_type": "markdown",
   "metadata": {},
   "source": [
    "#### Step 13.a. Check the item price type"
   ]
  },
  {
   "cell_type": "code",
   "execution_count": 14,
   "metadata": {
    "collapsed": false
   },
   "outputs": [
    {
     "data": {
      "text/plain": [
       "['string']"
      ]
     },
     "execution_count": 14,
     "metadata": {},
     "output_type": "execute_result"
    }
   ],
   "source": [
    "[col[1] for col in chipo.dtypes if col[0] == \"item_price\"]"
   ]
  },
  {
   "cell_type": "code",
   "execution_count": 15,
   "metadata": {},
   "outputs": [
    {
     "name": "stdout",
     "output_type": "stream",
     "text": [
      "+--------+--------+--------------------+--------------------+----------+\n",
      "|order_id|quantity|           item_name|  choice_description|item_price|\n",
      "+--------+--------+--------------------+--------------------+----------+\n",
      "|       1|       1|Chips and Fresh T...|                NULL|    $2.39 |\n",
      "|       1|       1|                Izze|        [Clementine]|    $3.39 |\n",
      "|       1|       1|    Nantucket Nectar|             [Apple]|    $3.39 |\n",
      "|       1|       1|Chips and Tomatil...|                NULL|    $2.39 |\n",
      "|       2|       2|        Chicken Bowl|[Tomatillo-Red Ch...|   $16.98 |\n",
      "|       3|       1|        Chicken Bowl|[Fresh Tomato Sal...|   $10.98 |\n",
      "|       3|       1|       Side of Chips|                NULL|    $1.69 |\n",
      "|       4|       1|       Steak Burrito|[Tomatillo Red Ch...|   $11.75 |\n",
      "|       4|       1|    Steak Soft Tacos|[Tomatillo Green ...|    $9.25 |\n",
      "|       5|       1|       Steak Burrito|[Fresh Tomato Sal...|    $9.25 |\n",
      "+--------+--------+--------------------+--------------------+----------+\n",
      "only showing top 10 rows\n",
      "\n"
     ]
    }
   ],
   "source": [
    "chipo.show(10)"
   ]
  },
  {
   "attachments": {},
   "cell_type": "markdown",
   "metadata": {},
   "source": [
    "#### Step 13.b. Create a lambda function and change the type of item price"
   ]
  },
  {
   "cell_type": "code",
   "execution_count": 16,
   "metadata": {
    "collapsed": true
   },
   "outputs": [],
   "source": [
    "from pyspark.sql.functions import col, udf\n",
    "from pyspark.sql.types import FloatType\n",
    "\n",
    "chipo = chipo\\\n",
    "    .withColumn(\"item_price\", udf(lambda s: s[1:])(col(\"item_price\")).cast(FloatType()))"
   ]
  },
  {
   "attachments": {},
   "cell_type": "markdown",
   "metadata": {},
   "source": [
    "#### Step 13.c. Check the item price type"
   ]
  },
  {
   "cell_type": "code",
   "execution_count": 17,
   "metadata": {
    "collapsed": false
   },
   "outputs": [
    {
     "data": {
      "text/plain": [
       "[('order_id', 'string'),\n",
       " ('quantity', 'int'),\n",
       " ('item_name', 'string'),\n",
       " ('choice_description', 'string'),\n",
       " ('item_price', 'float')]"
      ]
     },
     "execution_count": 17,
     "metadata": {},
     "output_type": "execute_result"
    }
   ],
   "source": [
    "chipo.dtypes"
   ]
  },
  {
   "attachments": {},
   "cell_type": "markdown",
   "metadata": {},
   "source": [
    "### Step 14. How much was the revenue for the period in the dataset?"
   ]
  },
  {
   "cell_type": "code",
   "execution_count": 21,
   "metadata": {
    "collapsed": false
   },
   "outputs": [
    {
     "name": "stdout",
     "output_type": "stream",
     "text": [
      "+----------------+\n",
      "|    sum(product)|\n",
      "+----------------+\n",
      "|39237.0197327137|\n",
      "+----------------+\n",
      "\n"
     ]
    }
   ],
   "source": [
    "chipo\\\n",
    ".withColumn(\"product\", col(\"quantity\") * col(\"item_price\"))\\\n",
    ".groupby()\\\n",
    ".sum(\"product\")\\\n",
    ".show()"
   ]
  },
  {
   "attachments": {},
   "cell_type": "markdown",
   "metadata": {},
   "source": [
    "### Step 15. How many orders were made in the period?"
   ]
  },
  {
   "cell_type": "code",
   "execution_count": 24,
   "metadata": {
    "collapsed": false
   },
   "outputs": [
    {
     "data": {
      "text/plain": [
       "1834"
      ]
     },
     "execution_count": 24,
     "metadata": {},
     "output_type": "execute_result"
    }
   ],
   "source": [
    "chipo.select(\"order_id\").distinct().count()"
   ]
  },
  {
   "attachments": {},
   "cell_type": "markdown",
   "metadata": {},
   "source": [
    "### Step 16. What is the average revenue amount per order?"
   ]
  },
  {
   "cell_type": "code",
   "execution_count": 33,
   "metadata": {
    "collapsed": false
   },
   "outputs": [
    {
     "name": "stdout",
     "output_type": "stream",
     "text": [
      "+------------------+\n",
      "|      avg(product)|\n",
      "+------------------+\n",
      "|21.394231042919138|\n",
      "+------------------+\n",
      "\n"
     ]
    }
   ],
   "source": [
    "chipo\\\n",
    ".withColumn(\"product\", col(\"quantity\") * col(\"item_price\"))\\\n",
    ".groupby(\"order_id\")\\\n",
    ".sum(\"product\")\\\n",
    ".withColumnRenamed(\"sum(product)\", \"product\")\\\n",
    ".groupby()\\\n",
    ".avg(\"product\")\\\n",
    ".show()"
   ]
  },
  {
   "attachments": {},
   "cell_type": "markdown",
   "metadata": {},
   "source": [
    "### Step 17. How many different items are sold?"
   ]
  },
  {
   "cell_type": "code",
   "execution_count": 26,
   "metadata": {
    "collapsed": false
   },
   "outputs": [
    {
     "data": {
      "text/plain": [
       "50"
      ]
     },
     "execution_count": 26,
     "metadata": {},
     "output_type": "execute_result"
    }
   ],
   "source": [
    "chipo.select(\"item_name\").distinct().count()"
   ]
  }
 ],
 "metadata": {
  "anaconda-cloud": {},
  "kernelspec": {
   "display_name": "Python 3",
   "language": "python",
   "name": "python3"
  },
  "language_info": {
   "codemirror_mode": {
    "name": "ipython",
    "version": 3
   },
   "file_extension": ".py",
   "mimetype": "text/x-python",
   "name": "python",
   "nbconvert_exporter": "python",
   "pygments_lexer": "ipython3",
   "version": "3.10.6"
  }
 },
 "nbformat": 4,
 "nbformat_minor": 0
}
